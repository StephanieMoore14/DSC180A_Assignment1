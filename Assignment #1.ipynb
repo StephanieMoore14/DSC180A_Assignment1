{
 "cells": [
  {
   "cell_type": "markdown",
   "metadata": {},
   "source": [
    "## Part 1\n",
    "Introduce the problem being investigated and describe the data being used to approach the problem. That is, describe the investigation into racial discrepancies in traffic stops by the SDSU investigation into the San Diego Police department (referring to the investigation in Suspect Citizens for context).\n",
    "\n",
    "Address the appropriateness of the data design and collection:\n",
    "\n",
    "* Why is the data is appropriate to address the problem?\n",
    "\n",
    "* What are the potential shortcomings of the data for addressing the problem?\n",
    "\n",
    "* What data have been used to address this problem in the past? (Historical context).\n",
    "\n",
    "Summarize relevant details of the data generating process, describing the population that the data represents, whether that population is relevant to the question at hand, while addressing possible questions of data reliability.\n",
    "\n",
    "The material in this section should be informed by the listed background readings and the introduction/data explanation sections of the main paper (with particular attention made to Appendix 2 in the SDSU study)."
   ]
  },
  {
   "cell_type": "code",
   "execution_count": null,
   "metadata": {},
   "outputs": [],
   "source": []
  },
  {
   "cell_type": "code",
   "execution_count": null,
   "metadata": {},
   "outputs": [],
   "source": []
  },
  {
   "cell_type": "code",
   "execution_count": null,
   "metadata": {},
   "outputs": [],
   "source": []
  },
  {
   "cell_type": "code",
   "execution_count": null,
   "metadata": {},
   "outputs": [],
   "source": []
  },
  {
   "cell_type": "code",
   "execution_count": null,
   "metadata": {},
   "outputs": [],
   "source": []
  },
  {
   "cell_type": "code",
   "execution_count": null,
   "metadata": {},
   "outputs": [],
   "source": []
  },
  {
   "cell_type": "code",
   "execution_count": null,
   "metadata": {},
   "outputs": [],
   "source": []
  },
  {
   "cell_type": "markdown",
   "metadata": {},
   "source": [
    "## Part 2\n",
    "Describe the data ingestion process you designed. This description should:\n",
    "\n",
    "* Specify from where the data originates, addressing legal issues pertaining to access.\n",
    "\n",
    "* Address any data privacy concerns and how your data pipeline handles them.\n",
    "\n",
    "* Lay out the schema and justify the decisions (what's the unit corresponding to an observation? What are the storage considerations?)\n",
    "\n",
    "* Address the applicability of the pipeline to similar data sources you might anticipate using in your future work on the subject (what might those be?)."
   ]
  },
  {
   "cell_type": "code",
   "execution_count": null,
   "metadata": {},
   "outputs": [],
   "source": []
  },
  {
   "cell_type": "code",
   "execution_count": null,
   "metadata": {},
   "outputs": [],
   "source": []
  },
  {
   "cell_type": "code",
   "execution_count": null,
   "metadata": {},
   "outputs": [],
   "source": []
  },
  {
   "cell_type": "code",
   "execution_count": null,
   "metadata": {},
   "outputs": [],
   "source": []
  },
  {
   "cell_type": "code",
   "execution_count": null,
   "metadata": {},
   "outputs": [],
   "source": []
  },
  {
   "cell_type": "markdown",
   "metadata": {},
   "source": [
    "## Part 3\n",
    "In a private GitHub repository for your project, structured according to the methodology portion of the course, create a data ingestion pipeline for the result-replication project. The pipeline should:\n",
    "\n",
    "* Ingest Traffic Stops data from the San Diego Open Data Portal into local file(s) on disk, according to best practices laid out in the methodology HW. All files should have the same schema! The ingestion pipeline should take in the year (between 2014 and 2019) as a parameter. Note that data post-2018 is structured differently according to RIPA (Racial and Identity Profiling Act).\n",
    "\n",
    "* As a bonus, write your data ingestion code to write the data to a local sqlite database. This will be useful when working with multiple years of data (or multiple geographies).\n",
    "\n",
    "* Store the data according to your designed schema, taking care to appropriately type the data and implement the best storage design (which columns are needed and appropriate). The data will eventually be stored in a database format both due to the size of the total collection of data, as well as for comparison to the Stanford Open Policing datasets.\n",
    "\n",
    "* The stored data should be in a form most appropriate for assessment and cleaning (EDA). You may find it useful to compare your dataset with the cleaned SDPD data in the Stanford Open Policing Dataset."
   ]
  },
  {
   "cell_type": "code",
   "execution_count": null,
   "metadata": {},
   "outputs": [],
   "source": []
  },
  {
   "cell_type": "code",
   "execution_count": null,
   "metadata": {},
   "outputs": [],
   "source": []
  },
  {
   "cell_type": "code",
   "execution_count": null,
   "metadata": {},
   "outputs": [],
   "source": []
  },
  {
   "cell_type": "code",
   "execution_count": null,
   "metadata": {},
   "outputs": [],
   "source": []
  }
 ],
 "metadata": {
  "kernelspec": {
   "display_name": "Python 3",
   "language": "python",
   "name": "python3"
  },
  "language_info": {
   "codemirror_mode": {
    "name": "ipython",
    "version": 3
   },
   "file_extension": ".py",
   "mimetype": "text/x-python",
   "name": "python",
   "nbconvert_exporter": "python",
   "pygments_lexer": "ipython3",
   "version": "3.7.4"
  }
 },
 "nbformat": 4,
 "nbformat_minor": 2
}
